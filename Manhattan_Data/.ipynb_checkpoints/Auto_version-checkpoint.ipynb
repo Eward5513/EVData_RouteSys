{
 "cells": [
  {
   "cell_type": "code",
   "execution_count": null,
   "id": "6194fa3d",
   "metadata": {},
   "outputs": [],
   "source": []
  },
  {
   "cell_type": "code",
   "execution_count": 4,
   "id": "20d6511e",
   "metadata": {},
   "outputs": [
    {
     "name": "stdout",
     "output_type": "stream",
     "text": [
      "29493\n"
     ]
    }
   ],
   "source": [
    "'''\n",
    "构建 SUMO 路网信息映射成 int 格式的，Simulation Algorithm 可读的词典：\n",
    "1. 把 string 结构的 node ID 转成 int 结构的：node_to_int，\n",
    "2. 把 string 结构的 edge ID 转成 int 结构的：edge_to_int，\n",
    "3. 把 int 结构的 edge ID 转成 string 结构的：int_to_edge，\n",
    "4. 储存 int 结构的 node ID 和 edge ID 到 Manhattan_network_mapped.csv 中。\n",
    "'''\n",
    "\n",
    "import os\n",
    "import pandas as pd\n",
    "import numpy as np\n",
    "\n",
    "# Map edge and node ID from 0 to their length\n",
    "\n",
    "# Read data\n",
    "directory_path = os.path.abspath('./')\n",
    "path = os.path.join(directory_path, 'Manhattan_network_raw.csv')\n",
    "\n",
    "df = pd.read_csv(path)\n",
    "print(len(df))\n",
    "\n",
    "# Convert unique string ids of \"node_start\" and \"node_end\" to unique integers.\n",
    "# Get a list of unique nodes\n",
    "unique_nodes = pd.concat([df['node_start'], df['node_end']]).unique()\n",
    "# Create a mapping of node string id to integer\n",
    "node_to_int = {node: idx for idx, node in enumerate(unique_nodes)}\n",
    "# Replace the string ids in the dataframe\n",
    "df['node_start'] = df['node_start'].map(node_to_int)\n",
    "df['node_end'] = df['node_end'].map(node_to_int)\n",
    "\n",
    "# Convert \"edge_id\" to unique integers.\n",
    "# Create a mapping of edge string id to integer\n",
    "edge_to_int = {edge: idx for idx, edge in enumerate(df['edge_id'].unique())}\n",
    "# Replace the string ids in the dataframe\n",
    "df['edge_id'] = df['edge_id'].map(edge_to_int)\n",
    "\n",
    "\n",
    "# 反转 edge_to_int 映射\n",
    "int_to_edge = {v: k for k, v in edge_to_int.items()}"
   ]
  },
  {
   "cell_type": "code",
   "execution_count": 5,
   "id": "d536a9b8",
   "metadata": {},
   "outputs": [
    {
     "data": {
      "text/plain": [
       "'727135244#3'"
      ]
     },
     "execution_count": 5,
     "metadata": {},
     "output_type": "execute_result"
    }
   ],
   "source": [
    "int_to_edge[25897]"
   ]
  },
  {
   "cell_type": "code",
   "execution_count": null,
   "id": "4a05f684",
   "metadata": {},
   "outputs": [],
   "source": []
  },
  {
   "cell_type": "code",
   "execution_count": 6,
   "id": "5af04875",
   "metadata": {},
   "outputs": [],
   "source": [
    "# Edge embedding\n",
    "\n",
    "# 目前我们不需要这个"
   ]
  },
  {
   "cell_type": "code",
   "execution_count": 8,
   "id": "6ce01831",
   "metadata": {},
   "outputs": [
    {
     "name": "stdout",
     "output_type": "stream",
     "text": [
      "Data path is: /data/zxucj/Traffic_Simulation_Work/Traffic_Simulation_Data_Generation_for_Baselines/0/TraCI_output_adjusted.csv\n",
      "数据形状: (42911018, 8)\n"
     ]
    }
   ],
   "source": [
    "import pandas as pd\n",
    "import numpy as np\n",
    "import os\n",
    "\n",
    "# Define path\n",
    "path = os.path.abspath('./../../../Traffic_Simulation_Data_Generation_for_Baselines/0/') \n",
    "# Define data path\n",
    "data_path = os.path.join(path,'TraCI_output_adjusted.csv') \n",
    "print('Data path is:', data_path) \n",
    "\n",
    "# 读取CSV文件\n",
    "dataFrame = pd.read_csv(data_path)\n",
    "\n",
    "# 选择所需的列\n",
    "# selected_columns = ['Edge_ID', 'Lanes_Net', 'Speed_Net', 'E_Length', 'Driving_Num', 'Travel_Time', 'Delay_Time', 'LowSpee_Time', 'Wait_Time']\n",
    "selected_columns = ['Lanes_Net', 'Speed_Net', 'E_Length', 'Driving_Num', 'Travel_Time', 'Delay_Time', 'LowSpee_Time', 'Wait_Time']\n",
    "\n",
    "\n",
    "dataFrame = dataFrame[selected_columns]\n",
    "\n",
    "# 检查 'Delay_Time', 'LowSpee_Time', 'Wait_Time' 是否有小于0的值\n",
    "for col in ['Delay_Time', 'LowSpee_Time', 'Wait_Time']:\n",
    "    if (dataFrame[col] < 0).any(): print(f\"Error: {col} contains values less than 0\")\n",
    "        \n",
    "print(\"数据形状:\", dataFrame.shape)"
   ]
  },
  {
   "cell_type": "code",
   "execution_count": null,
   "id": "b68dda4c",
   "metadata": {},
   "outputs": [],
   "source": [
    "# 特征处理\n"
   ]
  },
  {
   "cell_type": "code",
   "execution_count": 9,
   "id": "8c597428",
   "metadata": {},
   "outputs": [
    {
     "name": "stdout",
     "output_type": "stream",
     "text": [
      "          Lanes_Net  Speed_Net  E_Length  Driving_Num  Travel_Time Delay_Time  \\\n",
      "0                 1      11.18      5.56            1            0          0   \n",
      "1                 1      11.18      5.96            1            0          0   \n",
      "2                 1      11.18      7.25            1            0          0   \n",
      "3                 1      11.18      7.10            1            0          0   \n",
      "4                 1      11.18      5.71            1            0          0   \n",
      "...             ...        ...       ...          ...          ...        ...   \n",
      "42911013          2      27.78     67.38            1            3          0   \n",
      "42911014          2      27.78      9.54            1            0          0   \n",
      "42911015          2      27.78     68.26            1            3          0   \n",
      "42911016          2      27.78      9.04            1            0          0   \n",
      "42911017          2      27.78      9.04            1            0          0   \n",
      "\n",
      "         LowSpee_Time Wait_Time  \n",
      "0                   0         1  \n",
      "1                   0         0  \n",
      "2                   0         0  \n",
      "3                   0         0  \n",
      "4                   0         0  \n",
      "...               ...       ...  \n",
      "42911013            0         0  \n",
      "42911014            0         0  \n",
      "42911015            0         0  \n",
      "42911016            0         1  \n",
      "42911017            0         0  \n",
      "\n",
      "[42911018 rows x 8 columns]\n"
     ]
    }
   ],
   "source": [
    "df = dataFrame.copy()\n",
    "\n",
    "# Travel_Time 应该是堵车，低速，和正常行驶的和\n",
    "df['Travel_Time'] = pd.to_numeric(df['Travel_Time'], errors='coerce') + pd.to_numeric(df['Delay_Time'], errors='coerce') + pd.to_numeric(df['LowSpee_Time'], errors='coerce')\n",
    "\n",
    "# 将这 'Delay_Time', 'LowSpee_Time', 'Wait_Time' 转换为 0 和 1 的形式\n",
    "df[['Delay_Time', 'LowSpee_Time', 'Wait_Time']] = df[['Delay_Time', 'LowSpee_Time', 'Wait_Time']].applymap(lambda x: 0 if x == 0 else 1)\n",
    "# 删除多个列，并指定 axis=1 表示按列删除\n",
    "# df = df.drop(columns=['Delay_Time', 'LowSpee_Time', 'Wait_Time'])\n",
    "\n",
    "# 小路段的 Travel_Time 更新成 0 \n",
    "# 测试效果后再决定是否删去\n",
    "df.loc[df['E_Length'] / df['Speed_Net'] < 1, 'Travel_Time'] = 0\n",
    "df.loc[df['E_Length'] / df['Speed_Net'] < 1, 'Delay_Time'] = 0\n",
    "df.loc[df['E_Length'] / df['Speed_Net'] < 1, 'LowSpee_Time'] = 0\n",
    "\n",
    "# 将这些特征转换为 category 类型\n",
    "df['Delay_Time'] = df['Delay_Time'].astype('category')\n",
    "df['LowSpee_Time'] = df['LowSpee_Time'].astype('category')\n",
    "df['Wait_Time'] = df['Wait_Time'].astype('category')\n",
    "\n",
    "# 输出处理后的DataFrame\n",
    "print(df)"
   ]
  },
  {
   "cell_type": "code",
   "execution_count": 10,
   "id": "13d7c346-1b4c-42da-a992-f6445458c0cb",
   "metadata": {},
   "outputs": [],
   "source": [
    "\n",
    "# 创建长度与限速的交互项 (Length to Speed ratio)\n",
    "df['Length_Speed_Ratio'] = df['E_Length'] / df['Speed_Net']\n",
    "\n",
    "# 对数变换速度和长度以减少极值对模型的影响\n",
    "df['Log_E_Length'] = np.log1p(df['E_Length'])\n",
    "df['E_Length_Squared'] = df['E_Length'] ** 2\n",
    "\n",
    "# 先四舍五入，再转换为整数\n",
    "cols_to_convert = ['E_Length', 'Length_Speed_Ratio', 'Log_E_Length', 'E_Length_Squared', 'Speed_Net', 'Driving_Num']\n",
    "df[cols_to_convert] = df[cols_to_convert].round().astype(int)\n",
    "\n",
    "# df['Edge_ID'] = df['Edge_ID'].astype(str)\n",
    "\n",
    "# 创建一个总的非行驶时间特征\n",
    "# df['Total_NonDriving_Time'] = df['Delay_Time'] + df['LowSpee_Time'] + df['Wait_Time']\n",
    "# 对于分类变量(0/1)，可以创建组合特征，例如延迟时间与等待时间的交互\n",
    "# df['Delay_Wait_Interaction'] = df['Delay_Time'] * df['Wait_Time']\n",
    "\n",
    "# 删除异常值 (例如去除超过 99 百分位的值)\n",
    "q_high = df['Travel_Time'].quantile(0.99)\n",
    "df = df[df['Travel_Time'] <= q_high]\n",
    "\n",
    "# from sklearn.preprocessing import StandardScaler\n",
    "\n",
    "# 对连续型变量进行标准化\n",
    "# continuous_features = ['E_Length', 'Speed_Net', 'Driving_Num', 'Length_Speed_Ratio']\n",
    "# scaler = StandardScaler()# 创建二次项 (Polynomial Features)\n",
    "# df[continuous_features] = scaler.fit_transform(df[continuous_features])"
   ]
  },
  {
   "cell_type": "code",
   "execution_count": 11,
   "id": "a2181c26-0105-4e36-9a53-3fcb49a54edb",
   "metadata": {},
   "outputs": [
    {
     "name": "stdout",
     "output_type": "stream",
     "text": [
      "Lanes_Net                int64\n",
      "Speed_Net                int64\n",
      "E_Length                 int64\n",
      "Driving_Num              int64\n",
      "Travel_Time              int64\n",
      "Delay_Time            category\n",
      "LowSpee_Time          category\n",
      "Wait_Time             category\n",
      "Length_Speed_Ratio       int64\n",
      "Log_E_Length             int64\n",
      "E_Length_Squared         int64\n",
      "dtype: object\n"
     ]
    }
   ],
   "source": [
    "print(df.dtypes)"
   ]
  },
  {
   "cell_type": "code",
   "execution_count": null,
   "id": "7069810a",
   "metadata": {},
   "outputs": [],
   "source": []
  },
  {
   "cell_type": "code",
   "execution_count": 12,
   "id": "bfd7849c",
   "metadata": {},
   "outputs": [],
   "source": [
    "from autogluon.tabular import TabularDataset, TabularPredictor"
   ]
  },
  {
   "cell_type": "code",
   "execution_count": 21,
   "id": "2dea39af",
   "metadata": {},
   "outputs": [
    {
     "name": "stdout",
     "output_type": "stream",
     "text": [
      "447974\n"
     ]
    }
   ],
   "source": [
    "# 对特征组合进行统计分析\n",
    "unique_features = df.drop_duplicates(subset=['Lanes_Net','Speed_Net','E_Length','Driving_Num','Travel_Time','Delay_Time','LowSpee_Time',\n",
    "                                             'Wait_Time','Length_Speed_Ratio','Log_E_Length','E_Length_Squared'])\n",
    "print(len(unique_features))"
   ]
  },
  {
   "cell_type": "code",
   "execution_count": 22,
   "id": "cbb43711-7b60-4345-8550-a30c6182c809",
   "metadata": {},
   "outputs": [
    {
     "data": {
      "text/html": [
       "<div>\n",
       "<style scoped>\n",
       "    .dataframe tbody tr th:only-of-type {\n",
       "        vertical-align: middle;\n",
       "    }\n",
       "\n",
       "    .dataframe tbody tr th {\n",
       "        vertical-align: top;\n",
       "    }\n",
       "\n",
       "    .dataframe thead th {\n",
       "        text-align: right;\n",
       "    }\n",
       "</style>\n",
       "<table border=\"1\" class=\"dataframe\">\n",
       "  <thead>\n",
       "    <tr style=\"text-align: right;\">\n",
       "      <th></th>\n",
       "      <th>Lanes_Net</th>\n",
       "      <th>Speed_Net</th>\n",
       "      <th>E_Length</th>\n",
       "      <th>Driving_Num</th>\n",
       "      <th>Travel_Time</th>\n",
       "      <th>Delay_Time</th>\n",
       "      <th>LowSpee_Time</th>\n",
       "      <th>Wait_Time</th>\n",
       "      <th>Length_Speed_Ratio</th>\n",
       "      <th>Log_E_Length</th>\n",
       "      <th>E_Length_Squared</th>\n",
       "    </tr>\n",
       "  </thead>\n",
       "  <tbody>\n",
       "    <tr>\n",
       "      <th>0</th>\n",
       "      <td>1</td>\n",
       "      <td>11</td>\n",
       "      <td>6</td>\n",
       "      <td>1</td>\n",
       "      <td>0</td>\n",
       "      <td>0</td>\n",
       "      <td>0</td>\n",
       "      <td>1</td>\n",
       "      <td>0</td>\n",
       "      <td>2</td>\n",
       "      <td>31</td>\n",
       "    </tr>\n",
       "    <tr>\n",
       "      <th>1</th>\n",
       "      <td>1</td>\n",
       "      <td>11</td>\n",
       "      <td>6</td>\n",
       "      <td>1</td>\n",
       "      <td>0</td>\n",
       "      <td>0</td>\n",
       "      <td>0</td>\n",
       "      <td>0</td>\n",
       "      <td>1</td>\n",
       "      <td>2</td>\n",
       "      <td>36</td>\n",
       "    </tr>\n",
       "    <tr>\n",
       "      <th>2</th>\n",
       "      <td>1</td>\n",
       "      <td>11</td>\n",
       "      <td>7</td>\n",
       "      <td>1</td>\n",
       "      <td>0</td>\n",
       "      <td>0</td>\n",
       "      <td>0</td>\n",
       "      <td>0</td>\n",
       "      <td>1</td>\n",
       "      <td>2</td>\n",
       "      <td>53</td>\n",
       "    </tr>\n",
       "    <tr>\n",
       "      <th>3</th>\n",
       "      <td>1</td>\n",
       "      <td>11</td>\n",
       "      <td>7</td>\n",
       "      <td>1</td>\n",
       "      <td>0</td>\n",
       "      <td>0</td>\n",
       "      <td>0</td>\n",
       "      <td>0</td>\n",
       "      <td>1</td>\n",
       "      <td>2</td>\n",
       "      <td>50</td>\n",
       "    </tr>\n",
       "    <tr>\n",
       "      <th>4</th>\n",
       "      <td>1</td>\n",
       "      <td>11</td>\n",
       "      <td>6</td>\n",
       "      <td>1</td>\n",
       "      <td>0</td>\n",
       "      <td>0</td>\n",
       "      <td>0</td>\n",
       "      <td>0</td>\n",
       "      <td>1</td>\n",
       "      <td>2</td>\n",
       "      <td>33</td>\n",
       "    </tr>\n",
       "    <tr>\n",
       "      <th>...</th>\n",
       "      <td>...</td>\n",
       "      <td>...</td>\n",
       "      <td>...</td>\n",
       "      <td>...</td>\n",
       "      <td>...</td>\n",
       "      <td>...</td>\n",
       "      <td>...</td>\n",
       "      <td>...</td>\n",
       "      <td>...</td>\n",
       "      <td>...</td>\n",
       "      <td>...</td>\n",
       "    </tr>\n",
       "    <tr>\n",
       "      <th>42906235</th>\n",
       "      <td>2</td>\n",
       "      <td>28</td>\n",
       "      <td>78</td>\n",
       "      <td>3</td>\n",
       "      <td>11</td>\n",
       "      <td>1</td>\n",
       "      <td>1</td>\n",
       "      <td>1</td>\n",
       "      <td>3</td>\n",
       "      <td>4</td>\n",
       "      <td>6126</td>\n",
       "    </tr>\n",
       "    <tr>\n",
       "      <th>42907401</th>\n",
       "      <td>5</td>\n",
       "      <td>11</td>\n",
       "      <td>62</td>\n",
       "      <td>1</td>\n",
       "      <td>9</td>\n",
       "      <td>0</td>\n",
       "      <td>1</td>\n",
       "      <td>0</td>\n",
       "      <td>6</td>\n",
       "      <td>4</td>\n",
       "      <td>3863</td>\n",
       "    </tr>\n",
       "    <tr>\n",
       "      <th>42909885</th>\n",
       "      <td>1</td>\n",
       "      <td>11</td>\n",
       "      <td>116</td>\n",
       "      <td>1</td>\n",
       "      <td>12</td>\n",
       "      <td>0</td>\n",
       "      <td>0</td>\n",
       "      <td>0</td>\n",
       "      <td>10</td>\n",
       "      <td>5</td>\n",
       "      <td>13561</td>\n",
       "    </tr>\n",
       "    <tr>\n",
       "      <th>42910527</th>\n",
       "      <td>2</td>\n",
       "      <td>11</td>\n",
       "      <td>65</td>\n",
       "      <td>2</td>\n",
       "      <td>10</td>\n",
       "      <td>1</td>\n",
       "      <td>1</td>\n",
       "      <td>1</td>\n",
       "      <td>6</td>\n",
       "      <td>4</td>\n",
       "      <td>4233</td>\n",
       "    </tr>\n",
       "    <tr>\n",
       "      <th>42910804</th>\n",
       "      <td>1</td>\n",
       "      <td>14</td>\n",
       "      <td>113</td>\n",
       "      <td>1</td>\n",
       "      <td>13</td>\n",
       "      <td>0</td>\n",
       "      <td>1</td>\n",
       "      <td>0</td>\n",
       "      <td>8</td>\n",
       "      <td>5</td>\n",
       "      <td>12740</td>\n",
       "    </tr>\n",
       "  </tbody>\n",
       "</table>\n",
       "<p>447974 rows × 11 columns</p>\n",
       "</div>"
      ],
      "text/plain": [
       "          Lanes_Net  Speed_Net  E_Length  Driving_Num  Travel_Time Delay_Time  \\\n",
       "0                 1         11         6            1            0          0   \n",
       "1                 1         11         6            1            0          0   \n",
       "2                 1         11         7            1            0          0   \n",
       "3                 1         11         7            1            0          0   \n",
       "4                 1         11         6            1            0          0   \n",
       "...             ...        ...       ...          ...          ...        ...   \n",
       "42906235          2         28        78            3           11          1   \n",
       "42907401          5         11        62            1            9          0   \n",
       "42909885          1         11       116            1           12          0   \n",
       "42910527          2         11        65            2           10          1   \n",
       "42910804          1         14       113            1           13          0   \n",
       "\n",
       "         LowSpee_Time Wait_Time  Length_Speed_Ratio  Log_E_Length  \\\n",
       "0                   0         1                   0             2   \n",
       "1                   0         0                   1             2   \n",
       "2                   0         0                   1             2   \n",
       "3                   0         0                   1             2   \n",
       "4                   0         0                   1             2   \n",
       "...               ...       ...                 ...           ...   \n",
       "42906235            1         1                   3             4   \n",
       "42907401            1         0                   6             4   \n",
       "42909885            0         0                  10             5   \n",
       "42910527            1         1                   6             4   \n",
       "42910804            1         0                   8             5   \n",
       "\n",
       "          E_Length_Squared  \n",
       "0                       31  \n",
       "1                       36  \n",
       "2                       53  \n",
       "3                       50  \n",
       "4                       33  \n",
       "...                    ...  \n",
       "42906235              6126  \n",
       "42907401              3863  \n",
       "42909885             13561  \n",
       "42910527              4233  \n",
       "42910804             12740  \n",
       "\n",
       "[447974 rows x 11 columns]"
      ]
     },
     "execution_count": 22,
     "metadata": {},
     "output_type": "execute_result"
    }
   ],
   "source": [
    "unique_features"
   ]
  },
  {
   "cell_type": "code",
   "execution_count": 14,
   "id": "ae63acbe",
   "metadata": {},
   "outputs": [
    {
     "name": "stdout",
     "output_type": "stream",
     "text": [
      "列名完全匹配\n",
      "数据类型完全匹配\n"
     ]
    }
   ],
   "source": [
    "# 检查列名是否一致\n",
    "columns_match = list(unique_features.columns) == list(df.columns)\n",
    "if columns_match:\n",
    "    print(\"列名完全匹配\")\n",
    "else:\n",
    "    print(\"列名不匹配\")\n",
    "    print(\"unique_features 列名:\", list(unique_features.columns))\n",
    "    print(\"df 列名:\", list(df.columns))\n",
    "\n",
    "# 检查数据类型是否一致\n",
    "dtypes_match = (unique_features.dtypes == df.dtypes).all()\n",
    "if dtypes_match:\n",
    "    print(\"数据类型完全匹配\")\n",
    "else:\n",
    "    print(\"数据类型不匹配\")\n",
    "    print(\"unique_features 数据类型:\\n\", unique_features.dtypes)\n",
    "    print(\"df 数据类型:\\n\", df.dtypes)\n"
   ]
  },
  {
   "cell_type": "code",
   "execution_count": 23,
   "id": "17a07517",
   "metadata": {},
   "outputs": [
    {
     "name": "stdout",
     "output_type": "stream",
     "text": [
      "Index(['Lanes_Net', 'Speed_Net', 'E_Length', 'Driving_Num', 'Travel_Time',\n",
      "       'Delay_Time', 'LowSpee_Time', 'Wait_Time', 'Length_Speed_Ratio',\n",
      "       'Log_E_Length', 'E_Length_Squared'],\n",
      "      dtype='object')\n"
     ]
    }
   ],
   "source": [
    "print(unique_features.columns)"
   ]
  },
  {
   "cell_type": "code",
   "execution_count": null,
   "id": "467e20b7",
   "metadata": {},
   "outputs": [],
   "source": []
  },
  {
   "cell_type": "code",
   "execution_count": 25,
   "id": "c012951f",
   "metadata": {},
   "outputs": [
    {
     "name": "stdout",
     "output_type": "stream",
     "text": [
      "特征组合和预测结果已保存到 model_catching_with_travel_time_1.txt\n"
     ]
    }
   ],
   "source": [
    "# 加载预训练模型\n",
    "model_directory_path = os.path.abspath('./../../../Traffic_Simulation_Data_Generation_for_Model_Training/Model_Training/')\n",
    "model_path = os.path.join(model_directory_path, 'AutogluonModels/ag-20241004_160814')\n",
    "predictor = TabularPredictor.load(model_path, require_py_version_match=False)\n",
    "\n",
    "# 对唯一的特征组合进行预测\n",
    "predictions = predictor.predict(unique_features)\n",
    "\n",
    "# 将特征组合和预测结果保存到txt文件\n",
    "output_path = 'model_catching_with_travel_time_1.txt'\n",
    "with open(output_path, 'w', encoding='utf-8') as out_file:\n",
    "    for _, row in unique_features.iterrows():\n",
    "        \n",
    "        feature_data = [row['Lanes_Net'],row['Speed_Net'],row['E_Length'],row['Driving_Num'],row['Travel_Time'],row['Delay_Time'],\n",
    "                        row['LowSpee_Time'],row['Wait_Time'],row['Length_Speed_Ratio'],row['Log_E_Length'],row['E_Length_Squared']]\n",
    "        prediction = predictions.loc[_]\n",
    "        # print(prediction)\n",
    "        out_file.write(f\"{' '.join(map(str, feature_data))} {prediction}\\n\")\n",
    "\n",
    "print(\"特征组合和预测结果已保存到\", output_path)"
   ]
  },
  {
   "cell_type": "code",
   "execution_count": null,
   "id": "aac2eea0",
   "metadata": {},
   "outputs": [],
   "source": []
  }
 ],
 "metadata": {
  "kernelspec": {
   "display_name": "Python 3 (ipykernel)",
   "language": "python",
   "name": "python3"
  },
  "language_info": {
   "codemirror_mode": {
    "name": "ipython",
    "version": 3
   },
   "file_extension": ".py",
   "mimetype": "text/x-python",
   "name": "python",
   "nbconvert_exporter": "python",
   "pygments_lexer": "ipython3",
   "version": "3.10.4"
  }
 },
 "nbformat": 4,
 "nbformat_minor": 5
}
